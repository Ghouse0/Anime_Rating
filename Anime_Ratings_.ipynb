{
 "cells": [
  {
   "cell_type": "markdown",
   "id": "11396f17",
   "metadata": {},
   "source": [
    "# PROJECT"
   ]
  },
  {
   "cell_type": "markdown",
   "id": "10f08e71",
   "metadata": {},
   "source": [
    "# Domain:- Analysis"
   ]
  },
  {
   "cell_type": "markdown",
   "id": "4960f58e",
   "metadata": {},
   "source": [
    "# Module:-Anime Rating"
   ]
  },
  {
   "cell_type": "markdown",
   "id": "c0b756c8",
   "metadata": {},
   "source": [
    "# Module Discription"
   ]
  },
  {
   "cell_type": "markdown",
   "id": "9208c727",
   "metadata": {},
   "source": [
    "The \"Anime Rating\" module is designed to analyze and predict user ratings for anime content.\n",
    "Leveraging machine learning techniques, it processes user interactions and historical ratings to provide personalized anime recommendations.\n",
    "The module aims to enhance user experience by offering tailored suggestions based on individual preferences. It incorporates algorithms for collaborative \n",
    "filtering and sentiment analysis to predict and recommend anime titles,\n",
    "contributing to a more engaging and satisfying anime-watching experience.\n",
    "\n",
    "Additionally, it facilitates continuous improvement through user feedback and adaptation to evolving viewing habits"
   ]
  },
  {
   "cell_type": "markdown",
   "id": "2869d1dd",
   "metadata": {},
   "source": [
    "# Client :- Crunchyroll "
   ]
  },
  {
   "cell_type": "markdown",
   "id": "a38d926c",
   "metadata": {},
   "source": [
    "# Client Discription"
   ]
  },
  {
   "cell_type": "markdown",
   "id": "5a7ca132",
   "metadata": {},
   "source": [
    "While Crunchyroll originated in the United States,     \n",
    "it offers its services globally, providing anime content to viewers in various countries.   \n",
    "The platform offers both free ad-supported streaming and premium subscription-based services,     \n",
    "allowing users to access a vast library of anime titles"
   ]
  },
  {
   "cell_type": "code",
   "execution_count": null,
   "id": "488d842d",
   "metadata": {},
   "outputs": [],
   "source": []
  },
  {
   "cell_type": "code",
   "execution_count": null,
   "id": "c5f9aacb",
   "metadata": {},
   "outputs": [],
   "source": []
  },
  {
   "cell_type": "code",
   "execution_count": 1,
   "id": "24068636",
   "metadata": {},
   "outputs": [],
   "source": [
    "import pandas as pd\n",
    "import numpy as np \n",
    "import seaborn as sns \n",
    "import matplotlib as mlt\n"
   ]
  },
  {
   "cell_type": "markdown",
   "id": "d18432c8",
   "metadata": {},
   "source": [
    "https://github.com/Ghouse0/Anime_Rating"
   ]
  },
  {
   "cell_type": "code",
   "execution_count": 2,
   "id": "f33555d2",
   "metadata": {},
   "outputs": [],
   "source": [
    "df=pd.read_csv('Anime.csv')"
   ]
  },
  {
   "cell_type": "markdown",
   "id": "bda96446",
   "metadata": {},
   "source": [
    "   Rank: Numerical ranking of the anime.\n",
    "   \n",
    "   Name: The name of the anime.\n",
    "   \n",
    "   Japanese_name: The Japanese name of the anime.\n",
    "   \n",
    "   Type: The type of the anime (e.g., TV, Movie, OVA).\n",
    "   \n",
    "   Episodes: The number of episodes in the anime.\n",
    "   \n",
    "   Studio: The studio that produced the anime.\n",
    "   \n",
    "   Release_season: The season in which the anime was released.\n",
    "   \n",
    "   Tags: Tags associated with the anime.\n",
    "   \n",
    "   \n",
    "   Rating: The rating of the anime.\n",
    "   \n",
    "   Release_year: The year in which the anime was released.\n",
    "   \n",
    "   End_year: The year in which the anime concluded.\n",
    "   \n",
    "   Description: A brief description of the anime.\n",
    "   \n",
    "   Content_Warning: Information about content warnings for the anime.\n",
    "   \n",
    "   Related_Mange: Related manga associated with the anime.\n",
    "   \n",
    "   Related_anime: Related anime titles.\n",
    "   \n",
    "   Voice_actors: Voice actors involved in the anime.\n",
    "   \n",
    "   Staff: Staff members associated with the anime.\n",
    "   "
   ]
  },
  {
   "cell_type": "code",
   "execution_count": 3,
   "id": "06f69845",
   "metadata": {},
   "outputs": [
    {
     "data": {
      "text/html": [
       "<div>\n",
       "<style scoped>\n",
       "    .dataframe tbody tr th:only-of-type {\n",
       "        vertical-align: middle;\n",
       "    }\n",
       "\n",
       "    .dataframe tbody tr th {\n",
       "        vertical-align: top;\n",
       "    }\n",
       "\n",
       "    .dataframe thead th {\n",
       "        text-align: right;\n",
       "    }\n",
       "</style>\n",
       "<table border=\"1\" class=\"dataframe\">\n",
       "  <thead>\n",
       "    <tr style=\"text-align: right;\">\n",
       "      <th></th>\n",
       "      <th>Rank</th>\n",
       "      <th>Name</th>\n",
       "      <th>Japanese_name</th>\n",
       "      <th>Type</th>\n",
       "      <th>Episodes</th>\n",
       "      <th>Studio</th>\n",
       "      <th>Release_season</th>\n",
       "      <th>Tags</th>\n",
       "      <th>Rating</th>\n",
       "      <th>Release_year</th>\n",
       "      <th>End_year</th>\n",
       "      <th>Description</th>\n",
       "      <th>Content_Warning</th>\n",
       "      <th>Related_Mange</th>\n",
       "      <th>Related_anime</th>\n",
       "      <th>Voice_actors</th>\n",
       "      <th>staff</th>\n",
       "    </tr>\n",
       "  </thead>\n",
       "  <tbody>\n",
       "    <tr>\n",
       "      <th>0</th>\n",
       "      <td>1</td>\n",
       "      <td>Demon Slayer: Kimetsu no Yaiba - Entertainment...</td>\n",
       "      <td>Kimetsu no Yaiba: Yuukaku-hen</td>\n",
       "      <td>TV</td>\n",
       "      <td>NaN</td>\n",
       "      <td>ufotable</td>\n",
       "      <td>Fall</td>\n",
       "      <td>Action, Adventure, Fantasy, Shounen, Demons, H...</td>\n",
       "      <td>4.60</td>\n",
       "      <td>2021.0</td>\n",
       "      <td>NaN</td>\n",
       "      <td>'Tanjiro and his friends accompany the Hashira...</td>\n",
       "      <td>Explicit Violence</td>\n",
       "      <td>Demon Slayer: Kimetsu no Yaiba</td>\n",
       "      <td>Demon Slayer: Kimetsu no Yaiba, Demon Slayer: ...</td>\n",
       "      <td>Inosuke Hashibira : Yoshitsugu Matsuoka, Nezuk...</td>\n",
       "      <td>Koyoharu Gotouge : Original Creator, Haruo Sot...</td>\n",
       "    </tr>\n",
       "    <tr>\n",
       "      <th>1</th>\n",
       "      <td>2</td>\n",
       "      <td>Fruits Basket the Final Season</td>\n",
       "      <td>Fruits Basket the Final</td>\n",
       "      <td>TV</td>\n",
       "      <td>13.0</td>\n",
       "      <td>TMS Entertainment</td>\n",
       "      <td>Spring</td>\n",
       "      <td>Drama, Fantasy, Romance, Shoujo, Animal Transf...</td>\n",
       "      <td>4.60</td>\n",
       "      <td>2021.0</td>\n",
       "      <td>NaN</td>\n",
       "      <td>'The final arc of Fruits Basket.'</td>\n",
       "      <td>Emotional Abuse,, Mature Themes,, Physical Abu...</td>\n",
       "      <td>Fruits Basket, Fruits Basket Another</td>\n",
       "      <td>Fruits Basket 1st Season, Fruits Basket 2nd Se...</td>\n",
       "      <td>Akito Sohma : Maaya Sakamoto, Kyo Sohma : Yuum...</td>\n",
       "      <td>Natsuki Takaya : Original Creator, Yoshihide I...</td>\n",
       "    </tr>\n",
       "    <tr>\n",
       "      <th>2</th>\n",
       "      <td>3</td>\n",
       "      <td>Mo Dao Zu Shi 3</td>\n",
       "      <td>The Founder of Diabolism 3</td>\n",
       "      <td>Web</td>\n",
       "      <td>12.0</td>\n",
       "      <td>B.C MAY PICTURES</td>\n",
       "      <td>NaN</td>\n",
       "      <td>Fantasy, Ancient China, Chinese Animation, Cul...</td>\n",
       "      <td>4.58</td>\n",
       "      <td>2021.0</td>\n",
       "      <td>NaN</td>\n",
       "      <td>'The third season of Mo Dao Zu Shi.'</td>\n",
       "      <td>NaN</td>\n",
       "      <td>Grandmaster of Demonic Cultivation: Mo Dao Zu ...</td>\n",
       "      <td>Mo Dao Zu Shi 2, Mo Dao Zu Shi Q</td>\n",
       "      <td>Lan Wangji, Wei Wuxian, Jiang Cheng, Jin Guang...</td>\n",
       "      <td>Mo Xiang Tong Xiu : Original Creator, Xiong Ke...</td>\n",
       "    </tr>\n",
       "    <tr>\n",
       "      <th>3</th>\n",
       "      <td>4</td>\n",
       "      <td>Fullmetal Alchemist: Brotherhood</td>\n",
       "      <td>Hagane no Renkinjutsushi: Full Metal Alchemist</td>\n",
       "      <td>TV</td>\n",
       "      <td>64.0</td>\n",
       "      <td>Bones</td>\n",
       "      <td>Spring</td>\n",
       "      <td>Action, Adventure, Drama, Fantasy, Mystery, Sh...</td>\n",
       "      <td>4.58</td>\n",
       "      <td>2009.0</td>\n",
       "      <td>2010.0</td>\n",
       "      <td>\"The foundation of alchemy is based on the law...</td>\n",
       "      <td>Animal Abuse,, Mature Themes,, Violence,, Dome...</td>\n",
       "      <td>Fullmetal Alchemist, Fullmetal Alchemist (Ligh...</td>\n",
       "      <td>Fullmetal Alchemist: Brotherhood Specials, Ful...</td>\n",
       "      <td>Alphonse Elric : Rie Kugimiya, Edward Elric : ...</td>\n",
       "      <td>Hiromu Arakawa : Original Creator, Yasuhiro Ir...</td>\n",
       "    </tr>\n",
       "    <tr>\n",
       "      <th>4</th>\n",
       "      <td>5</td>\n",
       "      <td>Attack on Titan 3rd Season: Part II</td>\n",
       "      <td>Shingeki no Kyojin Season 3: Part II</td>\n",
       "      <td>TV</td>\n",
       "      <td>10.0</td>\n",
       "      <td>WIT Studio</td>\n",
       "      <td>Spring</td>\n",
       "      <td>Action, Fantasy, Horror, Shounen, Dark Fantasy...</td>\n",
       "      <td>4.57</td>\n",
       "      <td>2019.0</td>\n",
       "      <td>NaN</td>\n",
       "      <td>'The battle to retake Wall Maria begins now! W...</td>\n",
       "      <td>Cannibalism,, Explicit Violence</td>\n",
       "      <td>Attack on Titan, Attack on Titan: End of the W...</td>\n",
       "      <td>Attack on Titan, Attack on Titan 2nd Season, A...</td>\n",
       "      <td>Armin Arlelt : Marina Inoue, Eren Jaeger : Yuu...</td>\n",
       "      <td>Hajime Isayama : Original Creator, Tetsurou Ar...</td>\n",
       "    </tr>\n",
       "  </tbody>\n",
       "</table>\n",
       "</div>"
      ],
      "text/plain": [
       "   Rank                                               Name  \\\n",
       "0     1  Demon Slayer: Kimetsu no Yaiba - Entertainment...   \n",
       "1     2                     Fruits Basket the Final Season   \n",
       "2     3                                    Mo Dao Zu Shi 3   \n",
       "3     4                   Fullmetal Alchemist: Brotherhood   \n",
       "4     5                Attack on Titan 3rd Season: Part II   \n",
       "\n",
       "                                     Japanese_name   Type  Episodes  \\\n",
       "0                    Kimetsu no Yaiba: Yuukaku-hen  TV          NaN   \n",
       "1                          Fruits Basket the Final  TV         13.0   \n",
       "2                       The Founder of Diabolism 3  Web        12.0   \n",
       "3   Hagane no Renkinjutsushi: Full Metal Alchemist  TV         64.0   \n",
       "4             Shingeki no Kyojin Season 3: Part II  TV         10.0   \n",
       "\n",
       "              Studio Release_season  \\\n",
       "0           ufotable          Fall    \n",
       "1  TMS Entertainment         Spring   \n",
       "2   B.C MAY PICTURES            NaN   \n",
       "3              Bones         Spring   \n",
       "4         WIT Studio         Spring   \n",
       "\n",
       "                                                Tags  Rating  Release_year  \\\n",
       "0  Action, Adventure, Fantasy, Shounen, Demons, H...    4.60        2021.0   \n",
       "1  Drama, Fantasy, Romance, Shoujo, Animal Transf...    4.60        2021.0   \n",
       "2  Fantasy, Ancient China, Chinese Animation, Cul...    4.58        2021.0   \n",
       "3  Action, Adventure, Drama, Fantasy, Mystery, Sh...    4.58        2009.0   \n",
       "4  Action, Fantasy, Horror, Shounen, Dark Fantasy...    4.57        2019.0   \n",
       "\n",
       "   End_year                                        Description  \\\n",
       "0       NaN  'Tanjiro and his friends accompany the Hashira...   \n",
       "1       NaN                  'The final arc of Fruits Basket.'   \n",
       "2       NaN               'The third season of Mo Dao Zu Shi.'   \n",
       "3    2010.0  \"The foundation of alchemy is based on the law...   \n",
       "4       NaN  'The battle to retake Wall Maria begins now! W...   \n",
       "\n",
       "                                     Content_Warning  \\\n",
       "0                                  Explicit Violence   \n",
       "1  Emotional Abuse,, Mature Themes,, Physical Abu...   \n",
       "2                                                NaN   \n",
       "3  Animal Abuse,, Mature Themes,, Violence,, Dome...   \n",
       "4                    Cannibalism,, Explicit Violence   \n",
       "\n",
       "                                       Related_Mange  \\\n",
       "0                     Demon Slayer: Kimetsu no Yaiba   \n",
       "1               Fruits Basket, Fruits Basket Another   \n",
       "2  Grandmaster of Demonic Cultivation: Mo Dao Zu ...   \n",
       "3  Fullmetal Alchemist, Fullmetal Alchemist (Ligh...   \n",
       "4  Attack on Titan, Attack on Titan: End of the W...   \n",
       "\n",
       "                                       Related_anime  \\\n",
       "0  Demon Slayer: Kimetsu no Yaiba, Demon Slayer: ...   \n",
       "1  Fruits Basket 1st Season, Fruits Basket 2nd Se...   \n",
       "2                   Mo Dao Zu Shi 2, Mo Dao Zu Shi Q   \n",
       "3  Fullmetal Alchemist: Brotherhood Specials, Ful...   \n",
       "4  Attack on Titan, Attack on Titan 2nd Season, A...   \n",
       "\n",
       "                                        Voice_actors  \\\n",
       "0  Inosuke Hashibira : Yoshitsugu Matsuoka, Nezuk...   \n",
       "1  Akito Sohma : Maaya Sakamoto, Kyo Sohma : Yuum...   \n",
       "2  Lan Wangji, Wei Wuxian, Jiang Cheng, Jin Guang...   \n",
       "3  Alphonse Elric : Rie Kugimiya, Edward Elric : ...   \n",
       "4  Armin Arlelt : Marina Inoue, Eren Jaeger : Yuu...   \n",
       "\n",
       "                                               staff  \n",
       "0  Koyoharu Gotouge : Original Creator, Haruo Sot...  \n",
       "1  Natsuki Takaya : Original Creator, Yoshihide I...  \n",
       "2  Mo Xiang Tong Xiu : Original Creator, Xiong Ke...  \n",
       "3  Hiromu Arakawa : Original Creator, Yasuhiro Ir...  \n",
       "4  Hajime Isayama : Original Creator, Tetsurou Ar...  "
      ]
     },
     "execution_count": 3,
     "metadata": {},
     "output_type": "execute_result"
    }
   ],
   "source": [
    "df.head()"
   ]
  },
  {
   "cell_type": "code",
   "execution_count": 4,
   "id": "a97cbbc1",
   "metadata": {},
   "outputs": [
    {
     "data": {
      "text/html": [
       "<div>\n",
       "<style scoped>\n",
       "    .dataframe tbody tr th:only-of-type {\n",
       "        vertical-align: middle;\n",
       "    }\n",
       "\n",
       "    .dataframe tbody tr th {\n",
       "        vertical-align: top;\n",
       "    }\n",
       "\n",
       "    .dataframe thead th {\n",
       "        text-align: right;\n",
       "    }\n",
       "</style>\n",
       "<table border=\"1\" class=\"dataframe\">\n",
       "  <thead>\n",
       "    <tr style=\"text-align: right;\">\n",
       "      <th></th>\n",
       "      <th>Rank</th>\n",
       "      <th>Name</th>\n",
       "      <th>Japanese_name</th>\n",
       "      <th>Type</th>\n",
       "      <th>Episodes</th>\n",
       "      <th>Studio</th>\n",
       "      <th>Release_season</th>\n",
       "      <th>Tags</th>\n",
       "      <th>Rating</th>\n",
       "      <th>Release_year</th>\n",
       "      <th>End_year</th>\n",
       "      <th>Description</th>\n",
       "      <th>Content_Warning</th>\n",
       "      <th>Related_Mange</th>\n",
       "      <th>Related_anime</th>\n",
       "      <th>Voice_actors</th>\n",
       "      <th>staff</th>\n",
       "    </tr>\n",
       "  </thead>\n",
       "  <tbody>\n",
       "    <tr>\n",
       "      <th>18490</th>\n",
       "      <td>18491</td>\n",
       "      <td>Qin Shi Mingyue: Canghai Hengliu Xiaomeng Spec...</td>\n",
       "      <td>NaN</td>\n",
       "      <td>Web</td>\n",
       "      <td>2.0</td>\n",
       "      <td>Sparkly Key Animation Studio</td>\n",
       "      <td>NaN</td>\n",
       "      <td>Action, Ancient China, Chinese Animation, Hist...</td>\n",
       "      <td>NaN</td>\n",
       "      <td>2020.0</td>\n",
       "      <td>NaN</td>\n",
       "      <td>Special episodes of Qin Shi Mingyue: Canghai H...</td>\n",
       "      <td>NaN</td>\n",
       "      <td>NaN</td>\n",
       "      <td>Qin Shi Mingyue: Canghai Hengliu</td>\n",
       "      <td>NaN</td>\n",
       "      <td>NaN</td>\n",
       "    </tr>\n",
       "    <tr>\n",
       "      <th>18491</th>\n",
       "      <td>18492</td>\n",
       "      <td>Yi Tang Juchang: Sanguo Yanyi</td>\n",
       "      <td>NaN</td>\n",
       "      <td>TV</td>\n",
       "      <td>108.0</td>\n",
       "      <td>NaN</td>\n",
       "      <td>NaN</td>\n",
       "      <td>Chinese Animation</td>\n",
       "      <td>NaN</td>\n",
       "      <td>2010.0</td>\n",
       "      <td>NaN</td>\n",
       "      <td>No synopsis yet - check back soon!</td>\n",
       "      <td>NaN</td>\n",
       "      <td>NaN</td>\n",
       "      <td>NaN</td>\n",
       "      <td>NaN</td>\n",
       "      <td>NaN</td>\n",
       "    </tr>\n",
       "    <tr>\n",
       "      <th>18492</th>\n",
       "      <td>18493</td>\n",
       "      <td>Fenghuang Ji Xiang Yu Qingming Shanghe Tu</td>\n",
       "      <td>NaN</td>\n",
       "      <td>TV</td>\n",
       "      <td>13.0</td>\n",
       "      <td>NaN</td>\n",
       "      <td>NaN</td>\n",
       "      <td>Chinese Animation, Family Friendly, Short Epis...</td>\n",
       "      <td>NaN</td>\n",
       "      <td>2020.0</td>\n",
       "      <td>NaN</td>\n",
       "      <td>No synopsis yet - check back soon!</td>\n",
       "      <td>NaN</td>\n",
       "      <td>NaN</td>\n",
       "      <td>NaN</td>\n",
       "      <td>NaN</td>\n",
       "      <td>NaN</td>\n",
       "    </tr>\n",
       "    <tr>\n",
       "      <th>18493</th>\n",
       "      <td>18494</td>\n",
       "      <td>Chengshi Jiyi Wo Men de Jieri</td>\n",
       "      <td>NaN</td>\n",
       "      <td>TV</td>\n",
       "      <td>NaN</td>\n",
       "      <td>NaN</td>\n",
       "      <td>NaN</td>\n",
       "      <td>Chinese Animation, Family Friendly, Short Epis...</td>\n",
       "      <td>NaN</td>\n",
       "      <td>2020.0</td>\n",
       "      <td>NaN</td>\n",
       "      <td>No synopsis yet - check back soon!</td>\n",
       "      <td>NaN</td>\n",
       "      <td>NaN</td>\n",
       "      <td>NaN</td>\n",
       "      <td>NaN</td>\n",
       "      <td>NaN</td>\n",
       "    </tr>\n",
       "    <tr>\n",
       "      <th>18494</th>\n",
       "      <td>18495</td>\n",
       "      <td>Heisei Inu Monogatari Bow: Genshi Inu Monogata...</td>\n",
       "      <td>NaN</td>\n",
       "      <td>Movie</td>\n",
       "      <td>NaN</td>\n",
       "      <td>Nippon Animation</td>\n",
       "      <td>NaN</td>\n",
       "      <td>Comedy, Slice of Life, Dogs</td>\n",
       "      <td>NaN</td>\n",
       "      <td>1994.0</td>\n",
       "      <td>NaN</td>\n",
       "      <td>No synopsis yet - check back soon!</td>\n",
       "      <td>NaN</td>\n",
       "      <td>NaN</td>\n",
       "      <td>Heisei Inu Monogatari Bow</td>\n",
       "      <td>NaN</td>\n",
       "      <td>NaN</td>\n",
       "    </tr>\n",
       "  </tbody>\n",
       "</table>\n",
       "</div>"
      ],
      "text/plain": [
       "        Rank                                               Name Japanese_name  \\\n",
       "18490  18491  Qin Shi Mingyue: Canghai Hengliu Xiaomeng Spec...           NaN   \n",
       "18491  18492                      Yi Tang Juchang: Sanguo Yanyi           NaN   \n",
       "18492  18493          Fenghuang Ji Xiang Yu Qingming Shanghe Tu           NaN   \n",
       "18493  18494                      Chengshi Jiyi Wo Men de Jieri           NaN   \n",
       "18494  18495  Heisei Inu Monogatari Bow: Genshi Inu Monogata...           NaN   \n",
       "\n",
       "        Type  Episodes                        Studio Release_season  \\\n",
       "18490  Web         2.0  Sparkly Key Animation Studio            NaN   \n",
       "18491  TV        108.0                           NaN            NaN   \n",
       "18492  TV         13.0                           NaN            NaN   \n",
       "18493  TV          NaN                           NaN            NaN   \n",
       "18494  Movie       NaN              Nippon Animation            NaN   \n",
       "\n",
       "                                                    Tags  Rating  \\\n",
       "18490  Action, Ancient China, Chinese Animation, Hist...     NaN   \n",
       "18491                                  Chinese Animation     NaN   \n",
       "18492  Chinese Animation, Family Friendly, Short Epis...     NaN   \n",
       "18493  Chinese Animation, Family Friendly, Short Epis...     NaN   \n",
       "18494                        Comedy, Slice of Life, Dogs     NaN   \n",
       "\n",
       "       Release_year  End_year  \\\n",
       "18490        2020.0       NaN   \n",
       "18491        2010.0       NaN   \n",
       "18492        2020.0       NaN   \n",
       "18493        2020.0       NaN   \n",
       "18494        1994.0       NaN   \n",
       "\n",
       "                                             Description Content_Warning  \\\n",
       "18490  Special episodes of Qin Shi Mingyue: Canghai H...             NaN   \n",
       "18491                 No synopsis yet - check back soon!             NaN   \n",
       "18492                 No synopsis yet - check back soon!             NaN   \n",
       "18493                 No synopsis yet - check back soon!             NaN   \n",
       "18494                 No synopsis yet - check back soon!             NaN   \n",
       "\n",
       "      Related_Mange                     Related_anime Voice_actors staff  \n",
       "18490           NaN  Qin Shi Mingyue: Canghai Hengliu          NaN   NaN  \n",
       "18491           NaN                               NaN          NaN   NaN  \n",
       "18492           NaN                               NaN          NaN   NaN  \n",
       "18493           NaN                               NaN          NaN   NaN  \n",
       "18494           NaN         Heisei Inu Monogatari Bow          NaN   NaN  "
      ]
     },
     "execution_count": 4,
     "metadata": {},
     "output_type": "execute_result"
    }
   ],
   "source": [
    "df.tail()"
   ]
  },
  {
   "cell_type": "code",
   "execution_count": 5,
   "id": "7beba019",
   "metadata": {},
   "outputs": [
    {
     "data": {
      "text/plain": [
       "(18495, 17)"
      ]
     },
     "execution_count": 5,
     "metadata": {},
     "output_type": "execute_result"
    }
   ],
   "source": [
    "df.shape"
   ]
  },
  {
   "cell_type": "code",
   "execution_count": 6,
   "id": "3e7a3901",
   "metadata": {},
   "outputs": [
    {
     "data": {
      "text/html": [
       "<div>\n",
       "<style scoped>\n",
       "    .dataframe tbody tr th:only-of-type {\n",
       "        vertical-align: middle;\n",
       "    }\n",
       "\n",
       "    .dataframe tbody tr th {\n",
       "        vertical-align: top;\n",
       "    }\n",
       "\n",
       "    .dataframe thead th {\n",
       "        text-align: right;\n",
       "    }\n",
       "</style>\n",
       "<table border=\"1\" class=\"dataframe\">\n",
       "  <thead>\n",
       "    <tr style=\"text-align: right;\">\n",
       "      <th></th>\n",
       "      <th>Rank</th>\n",
       "      <th>Episodes</th>\n",
       "      <th>Rating</th>\n",
       "      <th>Release_year</th>\n",
       "      <th>End_year</th>\n",
       "    </tr>\n",
       "  </thead>\n",
       "  <tbody>\n",
       "    <tr>\n",
       "      <th>count</th>\n",
       "      <td>18495.00000</td>\n",
       "      <td>9501.000000</td>\n",
       "      <td>15364.000000</td>\n",
       "      <td>18112.000000</td>\n",
       "      <td>2854.000000</td>\n",
       "    </tr>\n",
       "    <tr>\n",
       "      <th>mean</th>\n",
       "      <td>9248.00000</td>\n",
       "      <td>20.920850</td>\n",
       "      <td>3.355133</td>\n",
       "      <td>2006.520318</td>\n",
       "      <td>2004.256132</td>\n",
       "    </tr>\n",
       "    <tr>\n",
       "      <th>std</th>\n",
       "      <td>5339.19095</td>\n",
       "      <td>37.990858</td>\n",
       "      <td>0.400624</td>\n",
       "      <td>15.189537</td>\n",
       "      <td>13.257484</td>\n",
       "    </tr>\n",
       "    <tr>\n",
       "      <th>min</th>\n",
       "      <td>1.00000</td>\n",
       "      <td>1.000000</td>\n",
       "      <td>0.960000</td>\n",
       "      <td>1907.000000</td>\n",
       "      <td>1962.000000</td>\n",
       "    </tr>\n",
       "    <tr>\n",
       "      <th>25%</th>\n",
       "      <td>4624.50000</td>\n",
       "      <td>2.000000</td>\n",
       "      <td>3.130000</td>\n",
       "      <td>2001.000000</td>\n",
       "      <td>1996.000000</td>\n",
       "    </tr>\n",
       "    <tr>\n",
       "      <th>50%</th>\n",
       "      <td>9248.00000</td>\n",
       "      <td>12.000000</td>\n",
       "      <td>3.360000</td>\n",
       "      <td>2012.000000</td>\n",
       "      <td>2007.000000</td>\n",
       "    </tr>\n",
       "    <tr>\n",
       "      <th>75%</th>\n",
       "      <td>13871.50000</td>\n",
       "      <td>26.000000</td>\n",
       "      <td>3.590000</td>\n",
       "      <td>2017.000000</td>\n",
       "      <td>2015.000000</td>\n",
       "    </tr>\n",
       "    <tr>\n",
       "      <th>max</th>\n",
       "      <td>18495.00000</td>\n",
       "      <td>800.000000</td>\n",
       "      <td>4.600000</td>\n",
       "      <td>2023.000000</td>\n",
       "      <td>2022.000000</td>\n",
       "    </tr>\n",
       "  </tbody>\n",
       "</table>\n",
       "</div>"
      ],
      "text/plain": [
       "              Rank     Episodes        Rating  Release_year     End_year\n",
       "count  18495.00000  9501.000000  15364.000000  18112.000000  2854.000000\n",
       "mean    9248.00000    20.920850      3.355133   2006.520318  2004.256132\n",
       "std     5339.19095    37.990858      0.400624     15.189537    13.257484\n",
       "min        1.00000     1.000000      0.960000   1907.000000  1962.000000\n",
       "25%     4624.50000     2.000000      3.130000   2001.000000  1996.000000\n",
       "50%     9248.00000    12.000000      3.360000   2012.000000  2007.000000\n",
       "75%    13871.50000    26.000000      3.590000   2017.000000  2015.000000\n",
       "max    18495.00000   800.000000      4.600000   2023.000000  2022.000000"
      ]
     },
     "execution_count": 6,
     "metadata": {},
     "output_type": "execute_result"
    }
   ],
   "source": [
    "df.describe()"
   ]
  },
  {
   "cell_type": "code",
   "execution_count": 7,
   "id": "9ee3366c",
   "metadata": {},
   "outputs": [
    {
     "name": "stdout",
     "output_type": "stream",
     "text": [
      "<class 'pandas.core.frame.DataFrame'>\n",
      "RangeIndex: 18495 entries, 0 to 18494\n",
      "Data columns (total 17 columns):\n",
      " #   Column           Non-Null Count  Dtype  \n",
      "---  ------           --------------  -----  \n",
      " 0   Rank             18495 non-null  int64  \n",
      " 1   Name             18495 non-null  object \n",
      " 2   Japanese_name    7938 non-null   object \n",
      " 3   Type             18495 non-null  object \n",
      " 4   Episodes         9501 non-null   float64\n",
      " 5   Studio           12018 non-null  object \n",
      " 6   Release_season   4116 non-null   object \n",
      " 7   Tags             18095 non-null  object \n",
      " 8   Rating           15364 non-null  float64\n",
      " 9   Release_year     18112 non-null  float64\n",
      " 10  End_year         2854 non-null   float64\n",
      " 11  Description      18491 non-null  object \n",
      " 12  Content_Warning  1840 non-null   object \n",
      " 13  Related_Mange    7627 non-null   object \n",
      " 14  Related_anime    10063 non-null  object \n",
      " 15  Voice_actors     15309 non-null  object \n",
      " 16  staff            13005 non-null  object \n",
      "dtypes: float64(4), int64(1), object(12)\n",
      "memory usage: 2.4+ MB\n"
     ]
    }
   ],
   "source": [
    "df.info()"
   ]
  },
  {
   "cell_type": "code",
   "execution_count": 8,
   "id": "f04b52a5",
   "metadata": {},
   "outputs": [
    {
     "data": {
      "text/plain": [
       "Rank                   0\n",
       "Name                   0\n",
       "Japanese_name      10557\n",
       "Type                   0\n",
       "Episodes            8994\n",
       "Studio              6477\n",
       "Release_season     14379\n",
       "Tags                 400\n",
       "Rating              3131\n",
       "Release_year         383\n",
       "End_year           15641\n",
       "Description            4\n",
       "Content_Warning    16655\n",
       "Related_Mange      10868\n",
       "Related_anime       8432\n",
       "Voice_actors        3186\n",
       "staff               5490\n",
       "dtype: int64"
      ]
     },
     "execution_count": 8,
     "metadata": {},
     "output_type": "execute_result"
    }
   ],
   "source": [
    "df.isnull().sum()"
   ]
  },
  {
   "cell_type": "code",
   "execution_count": 9,
   "id": "0379e4fc",
   "metadata": {},
   "outputs": [
    {
     "data": {
      "text/plain": [
       "Rank                0.000000\n",
       "Name                0.000000\n",
       "Japanese_name      57.080292\n",
       "Type                0.000000\n",
       "Episodes           48.629359\n",
       "Studio             35.020276\n",
       "Release_season     77.745337\n",
       "Tags                2.162747\n",
       "Rating             16.928900\n",
       "Release_year        2.070830\n",
       "End_year           84.568802\n",
       "Description         0.021627\n",
       "Content_Warning    90.051365\n",
       "Related_Mange      58.761828\n",
       "Related_anime      45.590700\n",
       "Voice_actors       17.226277\n",
       "staff              29.683698\n",
       "dtype: float64"
      ]
     },
     "execution_count": 9,
     "metadata": {},
     "output_type": "execute_result"
    }
   ],
   "source": [
    "df.isnull().mean()*100"
   ]
  },
  {
   "cell_type": "markdown",
   "id": "9013211c",
   "metadata": {},
   "source": [
    "there are columns which have more then 50% nulls we will drope them"
   ]
  },
  {
   "cell_type": "code",
   "execution_count": 10,
   "id": "6d9835d6",
   "metadata": {},
   "outputs": [],
   "source": [
    "df.drop(['Content_Warning','Related_Mange','Release_season','Japanese_name','End_year'],axis=1,inplace=True)\n",
    "df.drop(['staff','Voice_actors','Related_anime'],axis=1,inplace=True)"
   ]
  },
  {
   "cell_type": "code",
   "execution_count": 11,
   "id": "8f8e5b52",
   "metadata": {},
   "outputs": [
    {
     "data": {
      "text/html": [
       "<div>\n",
       "<style scoped>\n",
       "    .dataframe tbody tr th:only-of-type {\n",
       "        vertical-align: middle;\n",
       "    }\n",
       "\n",
       "    .dataframe tbody tr th {\n",
       "        vertical-align: top;\n",
       "    }\n",
       "\n",
       "    .dataframe thead th {\n",
       "        text-align: right;\n",
       "    }\n",
       "</style>\n",
       "<table border=\"1\" class=\"dataframe\">\n",
       "  <thead>\n",
       "    <tr style=\"text-align: right;\">\n",
       "      <th></th>\n",
       "      <th>Rank</th>\n",
       "      <th>Name</th>\n",
       "      <th>Type</th>\n",
       "      <th>Episodes</th>\n",
       "      <th>Studio</th>\n",
       "      <th>Tags</th>\n",
       "      <th>Rating</th>\n",
       "      <th>Release_year</th>\n",
       "      <th>Description</th>\n",
       "    </tr>\n",
       "  </thead>\n",
       "  <tbody>\n",
       "    <tr>\n",
       "      <th>0</th>\n",
       "      <td>1</td>\n",
       "      <td>Demon Slayer: Kimetsu no Yaiba - Entertainment...</td>\n",
       "      <td>TV</td>\n",
       "      <td>0</td>\n",
       "      <td>ufotable</td>\n",
       "      <td>Action, Adventure, Fantasy, Shounen, Demons, H...</td>\n",
       "      <td>4.6</td>\n",
       "      <td>2021.0</td>\n",
       "      <td>'Tanjiro and his friends accompany the Hashira...</td>\n",
       "    </tr>\n",
       "    <tr>\n",
       "      <th>1</th>\n",
       "      <td>2</td>\n",
       "      <td>Fruits Basket the Final Season</td>\n",
       "      <td>TV</td>\n",
       "      <td>13.0</td>\n",
       "      <td>TMS Entertainment</td>\n",
       "      <td>Drama, Fantasy, Romance, Shoujo, Animal Transf...</td>\n",
       "      <td>4.6</td>\n",
       "      <td>2021.0</td>\n",
       "      <td>'The final arc of Fruits Basket.'</td>\n",
       "    </tr>\n",
       "    <tr>\n",
       "      <th>2</th>\n",
       "      <td>3</td>\n",
       "      <td>Mo Dao Zu Shi 3</td>\n",
       "      <td>Web</td>\n",
       "      <td>12.0</td>\n",
       "      <td>B.C MAY PICTURES</td>\n",
       "      <td>Fantasy, Ancient China, Chinese Animation, Cul...</td>\n",
       "      <td>4.58</td>\n",
       "      <td>2021.0</td>\n",
       "      <td>'The third season of Mo Dao Zu Shi.'</td>\n",
       "    </tr>\n",
       "    <tr>\n",
       "      <th>3</th>\n",
       "      <td>4</td>\n",
       "      <td>Fullmetal Alchemist: Brotherhood</td>\n",
       "      <td>TV</td>\n",
       "      <td>64.0</td>\n",
       "      <td>Bones</td>\n",
       "      <td>Action, Adventure, Drama, Fantasy, Mystery, Sh...</td>\n",
       "      <td>4.58</td>\n",
       "      <td>2009.0</td>\n",
       "      <td>\"The foundation of alchemy is based on the law...</td>\n",
       "    </tr>\n",
       "    <tr>\n",
       "      <th>4</th>\n",
       "      <td>5</td>\n",
       "      <td>Attack on Titan 3rd Season: Part II</td>\n",
       "      <td>TV</td>\n",
       "      <td>10.0</td>\n",
       "      <td>WIT Studio</td>\n",
       "      <td>Action, Fantasy, Horror, Shounen, Dark Fantasy...</td>\n",
       "      <td>4.57</td>\n",
       "      <td>2019.0</td>\n",
       "      <td>'The battle to retake Wall Maria begins now! W...</td>\n",
       "    </tr>\n",
       "    <tr>\n",
       "      <th>...</th>\n",
       "      <td>...</td>\n",
       "      <td>...</td>\n",
       "      <td>...</td>\n",
       "      <td>...</td>\n",
       "      <td>...</td>\n",
       "      <td>...</td>\n",
       "      <td>...</td>\n",
       "      <td>...</td>\n",
       "      <td>...</td>\n",
       "    </tr>\n",
       "    <tr>\n",
       "      <th>18490</th>\n",
       "      <td>18491</td>\n",
       "      <td>Qin Shi Mingyue: Canghai Hengliu Xiaomeng Spec...</td>\n",
       "      <td>Web</td>\n",
       "      <td>2.0</td>\n",
       "      <td>Sparkly Key Animation Studio</td>\n",
       "      <td>Action, Ancient China, Chinese Animation, Hist...</td>\n",
       "      <td>0</td>\n",
       "      <td>2020.0</td>\n",
       "      <td>Special episodes of Qin Shi Mingyue: Canghai H...</td>\n",
       "    </tr>\n",
       "    <tr>\n",
       "      <th>18491</th>\n",
       "      <td>18492</td>\n",
       "      <td>Yi Tang Juchang: Sanguo Yanyi</td>\n",
       "      <td>TV</td>\n",
       "      <td>108.0</td>\n",
       "      <td>0</td>\n",
       "      <td>Chinese Animation</td>\n",
       "      <td>0</td>\n",
       "      <td>2010.0</td>\n",
       "      <td>No synopsis yet - check back soon!</td>\n",
       "    </tr>\n",
       "    <tr>\n",
       "      <th>18492</th>\n",
       "      <td>18493</td>\n",
       "      <td>Fenghuang Ji Xiang Yu Qingming Shanghe Tu</td>\n",
       "      <td>TV</td>\n",
       "      <td>13.0</td>\n",
       "      <td>0</td>\n",
       "      <td>Chinese Animation, Family Friendly, Short Epis...</td>\n",
       "      <td>0</td>\n",
       "      <td>2020.0</td>\n",
       "      <td>No synopsis yet - check back soon!</td>\n",
       "    </tr>\n",
       "    <tr>\n",
       "      <th>18493</th>\n",
       "      <td>18494</td>\n",
       "      <td>Chengshi Jiyi Wo Men de Jieri</td>\n",
       "      <td>TV</td>\n",
       "      <td>0</td>\n",
       "      <td>0</td>\n",
       "      <td>Chinese Animation, Family Friendly, Short Epis...</td>\n",
       "      <td>0</td>\n",
       "      <td>2020.0</td>\n",
       "      <td>No synopsis yet - check back soon!</td>\n",
       "    </tr>\n",
       "    <tr>\n",
       "      <th>18494</th>\n",
       "      <td>18495</td>\n",
       "      <td>Heisei Inu Monogatari Bow: Genshi Inu Monogata...</td>\n",
       "      <td>Movie</td>\n",
       "      <td>0</td>\n",
       "      <td>Nippon Animation</td>\n",
       "      <td>Comedy, Slice of Life, Dogs</td>\n",
       "      <td>0</td>\n",
       "      <td>1994.0</td>\n",
       "      <td>No synopsis yet - check back soon!</td>\n",
       "    </tr>\n",
       "  </tbody>\n",
       "</table>\n",
       "<p>18495 rows × 9 columns</p>\n",
       "</div>"
      ],
      "text/plain": [
       "        Rank                                               Name   Type  \\\n",
       "0          1  Demon Slayer: Kimetsu no Yaiba - Entertainment...  TV      \n",
       "1          2                     Fruits Basket the Final Season  TV      \n",
       "2          3                                    Mo Dao Zu Shi 3  Web     \n",
       "3          4                   Fullmetal Alchemist: Brotherhood  TV      \n",
       "4          5                Attack on Titan 3rd Season: Part II  TV      \n",
       "...      ...                                                ...    ...   \n",
       "18490  18491  Qin Shi Mingyue: Canghai Hengliu Xiaomeng Spec...  Web     \n",
       "18491  18492                      Yi Tang Juchang: Sanguo Yanyi  TV      \n",
       "18492  18493          Fenghuang Ji Xiang Yu Qingming Shanghe Tu  TV      \n",
       "18493  18494                      Chengshi Jiyi Wo Men de Jieri  TV      \n",
       "18494  18495  Heisei Inu Monogatari Bow: Genshi Inu Monogata...  Movie   \n",
       "\n",
       "      Episodes                        Studio  \\\n",
       "0            0                      ufotable   \n",
       "1         13.0             TMS Entertainment   \n",
       "2         12.0              B.C MAY PICTURES   \n",
       "3         64.0                         Bones   \n",
       "4         10.0                    WIT Studio   \n",
       "...        ...                           ...   \n",
       "18490      2.0  Sparkly Key Animation Studio   \n",
       "18491    108.0                             0   \n",
       "18492     13.0                             0   \n",
       "18493        0                             0   \n",
       "18494        0              Nippon Animation   \n",
       "\n",
       "                                                    Tags Rating Release_year  \\\n",
       "0      Action, Adventure, Fantasy, Shounen, Demons, H...    4.6       2021.0   \n",
       "1      Drama, Fantasy, Romance, Shoujo, Animal Transf...    4.6       2021.0   \n",
       "2      Fantasy, Ancient China, Chinese Animation, Cul...   4.58       2021.0   \n",
       "3      Action, Adventure, Drama, Fantasy, Mystery, Sh...   4.58       2009.0   \n",
       "4      Action, Fantasy, Horror, Shounen, Dark Fantasy...   4.57       2019.0   \n",
       "...                                                  ...    ...          ...   \n",
       "18490  Action, Ancient China, Chinese Animation, Hist...      0       2020.0   \n",
       "18491                                  Chinese Animation      0       2010.0   \n",
       "18492  Chinese Animation, Family Friendly, Short Epis...      0       2020.0   \n",
       "18493  Chinese Animation, Family Friendly, Short Epis...      0       2020.0   \n",
       "18494                        Comedy, Slice of Life, Dogs      0       1994.0   \n",
       "\n",
       "                                             Description  \n",
       "0      'Tanjiro and his friends accompany the Hashira...  \n",
       "1                      'The final arc of Fruits Basket.'  \n",
       "2                   'The third season of Mo Dao Zu Shi.'  \n",
       "3      \"The foundation of alchemy is based on the law...  \n",
       "4      'The battle to retake Wall Maria begins now! W...  \n",
       "...                                                  ...  \n",
       "18490  Special episodes of Qin Shi Mingyue: Canghai H...  \n",
       "18491                 No synopsis yet - check back soon!  \n",
       "18492                 No synopsis yet - check back soon!  \n",
       "18493                 No synopsis yet - check back soon!  \n",
       "18494                 No synopsis yet - check back soon!  \n",
       "\n",
       "[18495 rows x 9 columns]"
      ]
     },
     "execution_count": 11,
     "metadata": {},
     "output_type": "execute_result"
    }
   ],
   "source": [
    "df.fillna(\"0\")"
   ]
  },
  {
   "cell_type": "code",
   "execution_count": 12,
   "id": "904779ed",
   "metadata": {},
   "outputs": [
    {
     "data": {
      "text/html": [
       "<div>\n",
       "<style scoped>\n",
       "    .dataframe tbody tr th:only-of-type {\n",
       "        vertical-align: middle;\n",
       "    }\n",
       "\n",
       "    .dataframe tbody tr th {\n",
       "        vertical-align: top;\n",
       "    }\n",
       "\n",
       "    .dataframe thead th {\n",
       "        text-align: right;\n",
       "    }\n",
       "</style>\n",
       "<table border=\"1\" class=\"dataframe\">\n",
       "  <thead>\n",
       "    <tr style=\"text-align: right;\">\n",
       "      <th></th>\n",
       "      <th>Rank</th>\n",
       "      <th>Name</th>\n",
       "      <th>Type</th>\n",
       "      <th>Episodes</th>\n",
       "      <th>Studio</th>\n",
       "      <th>Tags</th>\n",
       "      <th>Rating</th>\n",
       "      <th>Release_year</th>\n",
       "      <th>Description</th>\n",
       "    </tr>\n",
       "  </thead>\n",
       "  <tbody>\n",
       "    <tr>\n",
       "      <th>0</th>\n",
       "      <td>1</td>\n",
       "      <td>Demon Slayer: Kimetsu no Yaiba - Entertainment...</td>\n",
       "      <td>TV</td>\n",
       "      <td>NaN</td>\n",
       "      <td>ufotable</td>\n",
       "      <td>Action, Adventure, Fantasy, Shounen, Demons, H...</td>\n",
       "      <td>4.60</td>\n",
       "      <td>2021.0</td>\n",
       "      <td>'Tanjiro and his friends accompany the Hashira...</td>\n",
       "    </tr>\n",
       "    <tr>\n",
       "      <th>1</th>\n",
       "      <td>2</td>\n",
       "      <td>Fruits Basket the Final Season</td>\n",
       "      <td>TV</td>\n",
       "      <td>13.0</td>\n",
       "      <td>TMS Entertainment</td>\n",
       "      <td>Drama, Fantasy, Romance, Shoujo, Animal Transf...</td>\n",
       "      <td>4.60</td>\n",
       "      <td>2021.0</td>\n",
       "      <td>'The final arc of Fruits Basket.'</td>\n",
       "    </tr>\n",
       "    <tr>\n",
       "      <th>2</th>\n",
       "      <td>3</td>\n",
       "      <td>Mo Dao Zu Shi 3</td>\n",
       "      <td>Web</td>\n",
       "      <td>12.0</td>\n",
       "      <td>B.C MAY PICTURES</td>\n",
       "      <td>Fantasy, Ancient China, Chinese Animation, Cul...</td>\n",
       "      <td>4.58</td>\n",
       "      <td>2021.0</td>\n",
       "      <td>'The third season of Mo Dao Zu Shi.'</td>\n",
       "    </tr>\n",
       "    <tr>\n",
       "      <th>3</th>\n",
       "      <td>4</td>\n",
       "      <td>Fullmetal Alchemist: Brotherhood</td>\n",
       "      <td>TV</td>\n",
       "      <td>64.0</td>\n",
       "      <td>Bones</td>\n",
       "      <td>Action, Adventure, Drama, Fantasy, Mystery, Sh...</td>\n",
       "      <td>4.58</td>\n",
       "      <td>2009.0</td>\n",
       "      <td>\"The foundation of alchemy is based on the law...</td>\n",
       "    </tr>\n",
       "    <tr>\n",
       "      <th>4</th>\n",
       "      <td>5</td>\n",
       "      <td>Attack on Titan 3rd Season: Part II</td>\n",
       "      <td>TV</td>\n",
       "      <td>10.0</td>\n",
       "      <td>WIT Studio</td>\n",
       "      <td>Action, Fantasy, Horror, Shounen, Dark Fantasy...</td>\n",
       "      <td>4.57</td>\n",
       "      <td>2019.0</td>\n",
       "      <td>'The battle to retake Wall Maria begins now! W...</td>\n",
       "    </tr>\n",
       "  </tbody>\n",
       "</table>\n",
       "</div>"
      ],
      "text/plain": [
       "   Rank                                               Name   Type  Episodes  \\\n",
       "0     1  Demon Slayer: Kimetsu no Yaiba - Entertainment...  TV          NaN   \n",
       "1     2                     Fruits Basket the Final Season  TV         13.0   \n",
       "2     3                                    Mo Dao Zu Shi 3  Web        12.0   \n",
       "3     4                   Fullmetal Alchemist: Brotherhood  TV         64.0   \n",
       "4     5                Attack on Titan 3rd Season: Part II  TV         10.0   \n",
       "\n",
       "              Studio                                               Tags  \\\n",
       "0           ufotable  Action, Adventure, Fantasy, Shounen, Demons, H...   \n",
       "1  TMS Entertainment  Drama, Fantasy, Romance, Shoujo, Animal Transf...   \n",
       "2   B.C MAY PICTURES  Fantasy, Ancient China, Chinese Animation, Cul...   \n",
       "3              Bones  Action, Adventure, Drama, Fantasy, Mystery, Sh...   \n",
       "4         WIT Studio  Action, Fantasy, Horror, Shounen, Dark Fantasy...   \n",
       "\n",
       "   Rating  Release_year                                        Description  \n",
       "0    4.60        2021.0  'Tanjiro and his friends accompany the Hashira...  \n",
       "1    4.60        2021.0                  'The final arc of Fruits Basket.'  \n",
       "2    4.58        2021.0               'The third season of Mo Dao Zu Shi.'  \n",
       "3    4.58        2009.0  \"The foundation of alchemy is based on the law...  \n",
       "4    4.57        2019.0  'The battle to retake Wall Maria begins now! W...  "
      ]
     },
     "execution_count": 12,
     "metadata": {},
     "output_type": "execute_result"
    }
   ],
   "source": [
    "df.head()"
   ]
  },
  {
   "cell_type": "markdown",
   "id": "952e9fb7",
   "metadata": {},
   "source": [
    "\n",
    "# Exploratory Data Analysis"
   ]
  },
  {
   "cell_type": "code",
   "execution_count": 15,
   "id": "ec9e3770",
   "metadata": {},
   "outputs": [
    {
     "data": {
      "text/plain": [
       "<Axes: xlabel='Rating', ylabel='Count'>"
      ]
     },
     "execution_count": 15,
     "metadata": {},
     "output_type": "execute_result"
    },
    {
     "data": {
      "image/png": "[encoded data removed]",
      "text/plain": [
       "<Figure size 640x480 with 1 Axes>"
      ]
     },
     "metadata": {},
     "output_type": "display_data"
    }
   ],
   "source": [
    "sns.histplot(df['Rating'].dropna(),color='green',kde=True)"
   ]
  },
  {
   "cell_type": "markdown",
   "id": "794246e8",
   "metadata": {},
   "source": [
    "Most of the anime have their ratings between 3 and 4, suggesting that very few anime had very good ratings"
   ]
  },
  {
   "cell_type": "code",
   "execution_count": null,
   "id": "a2597265",
   "metadata": {},
   "outputs": [],
   "source": []
  },
  {
   "cell_type": "code",
   "execution_count": 16,
   "id": "f3b68602",
   "metadata": {
    "scrolled": false
   },
   "outputs": [
    {
     "data": {
      "text/plain": [
       "<Axes: xlabel='Release_year', ylabel='Count'>"
      ]
     },
     "execution_count": 16,
     "metadata": {},
     "output_type": "execute_result"
    },
    {
     "data": {
      "image/png": "[encoded data removed]",
      "text/plain": [
       "<Figure size 640x480 with 1 Axes>"
      ]
     },
     "metadata": {},
     "output_type": "display_data"
    }
   ],
   "source": [
    "sns.histplot(df['Release_year'].dropna(),color='purple',kde=True)"
   ]
  },
  {
   "cell_type": "markdown",
   "id": "50822b09",
   "metadata": {},
   "source": [
    "Most of the anime have released in the past 10-15 years.\n",
    "\n",
    "\n",
    "This does check out as there was a boom in the manga and anime industry in the late 2010's"
   ]
  },
  {
   "cell_type": "code",
   "execution_count": 17,
   "id": "16aa7d51",
   "metadata": {},
   "outputs": [
    {
     "data": {
      "text/plain": [
       "<Axes: xlabel='Type', ylabel='count'>"
      ]
     },
     "execution_count": 17,
     "metadata": {},
     "output_type": "execute_result"
    },
    {
     "data": {
      "image/png": "[encoded data removed]",
      "text/plain": [
       "<Figure size 640x480 with 1 Axes>"
      ]
     },
     "metadata": {},
     "output_type": "display_data"
    }
   ],
   "source": [
    "sns.countplot(x='Type',data=df)"
   ]
  },
  {
   "cell_type": "markdown",
   "id": "4ebc2aee",
   "metadata": {},
   "source": [
    "          people are tend to like to watch anime on tv on constnt time interval between Eps,\n",
    "\n",
    "                      WEB is second most likely to watch anime on"
   ]
  },
  {
   "cell_type": "code",
   "execution_count": 18,
   "id": "f533d717",
   "metadata": {},
   "outputs": [
    {
     "data": {
      "text/plain": [
       "<Axes: xlabel='Type', ylabel='Rating'>"
      ]
     },
     "execution_count": 18,
     "metadata": {},
     "output_type": "execute_result"
    },
    {
     "data": {
      "image/png": "[encoded data removed]",
      "text/plain": [
       "<Figure size 640x480 with 1 Axes>"
      ]
     },
     "metadata": {},
     "output_type": "display_data"
    }
   ],
   "source": [
    "sns.boxplot(x='Type',y='Rating',data=df)"
   ]
  },
  {
   "cell_type": "markdown",
   "id": "6cafda9e",
   "metadata": {},
   "source": [
    "           One inference which can be deduced is that the TV Sp type, even though having less number of animes hosted on it, \n",
    "\n",
    "           tends to get a higher average rating."
   ]
  },
  {
   "cell_type": "code",
   "execution_count": 19,
   "id": "ec9fb72b",
   "metadata": {},
   "outputs": [
    {
     "data": {
      "text/plain": [
       "<Axes: xlabel='count', ylabel='Studio'>"
      ]
     },
     "execution_count": 19,
     "metadata": {},
     "output_type": "execute_result"
    },
    {
     "data": {
      "image/png": "[encoded data removed]",
      "text/plain": [
       "<Figure size 640x480 with 1 Axes>"
      ]
     },
     "metadata": {},
     "output_type": "display_data"
    }
   ],
   "source": [
    "top_studio=df[\"Studio\"].value_counts()[:15]\n",
    "sns.barplot(y=top_studio.index,x=top_studio)"
   ]
  },
  {
   "cell_type": "markdown",
   "id": "641f4b33",
   "metadata": {},
   "source": [
    "as shown in graph toei animation is on top for producing anime "
   ]
  },
  {
   "cell_type": "code",
   "execution_count": 20,
   "id": "4fa34e48",
   "metadata": {},
   "outputs": [
    {
     "data": {
      "text/plain": [
       "(0.0, 55.0)"
      ]
     },
     "execution_count": 20,
     "metadata": {},
     "output_type": "execute_result"
    },
    {
     "data": {
      "image/png": "[encoded data removed]",
      "text/plain": [
       "<Figure size 640x480 with 1 Axes>"
      ]
     },
     "metadata": {},
     "output_type": "display_data"
    }
   ],
   "source": [
    "import matplotlib.pyplot as plt \n",
    "sns.histplot(x=df[\"Episodes\"],data=df,bins=500,color=\"darkred\")\n",
    "plt.xlim(0,55)"
   ]
  },
  {
   "cell_type": "markdown",
   "id": "1e3560c7",
   "metadata": {},
   "source": [
    "All the anime with one episode is basically a movie, hence one episode.\n",
    "\n",
    "\n",
    "The next highest is around 12, which is the average length of an anime on TV or OVA."
   ]
  },
  {
   "cell_type": "code",
   "execution_count": 21,
   "id": "aa86201d",
   "metadata": {},
   "outputs": [
    {
     "data": {
      "text/plain": [
       "<Axes: >"
      ]
     },
     "execution_count": 21,
     "metadata": {},
     "output_type": "execute_result"
    },
    {
     "data": {
      "image/png": "[encoded data removed]",
      "text/plain": [
       "<Figure size 640x480 with 2 Axes>"
      ]
     },
     "metadata": {},
     "output_type": "display_data"
    }
   ],
   "source": [
    "correlation=df.corr(numeric_only=True)\n",
    "sns.heatmap(correlation,annot=True)"
   ]
  },
  {
   "cell_type": "markdown",
   "id": "76806e7a",
   "metadata": {},
   "source": [
    "We can see that the count of staff and voice actors do have correlation with the rating of an anime, \n",
    "which is a good thing. Also,\n",
    "\n",
    "there is a high correlation between voice_actors_count and staff_count meaning that one of these variables can be dropped while making a model"
   ]
  },
  {
   "cell_type": "code",
   "execution_count": null,
   "id": "6c9a7469",
   "metadata": {},
   "outputs": [],
   "source": []
  },
  {
   "cell_type": "markdown",
   "id": "7d84faac",
   "metadata": {},
   "source": [
    "\n",
    "# conclusion"
   ]
  },
  {
   "cell_type": "markdown",
   "id": "2ca1d2a8",
   "metadata": {},
   "source": [
    "   -Most of the action animes are geeting high rating.and more people are tend to like sce-fic,Advanture animes\n",
    "    anime are getting more views which has mid range eps \n",
    "    \n",
    "    -The number of anime animation are getting high by every year from 2000 to 2020 the animation production are grrting double\n",
    "    \n",
    "    -most people prefer to watch anime on tv on reguler time interval and 2nd is web\n",
    "    -One inference which can be deduced is that the TV Sp type, even though having less number of animes hosted on it, \n",
    "\n",
    "       tends to get a higher average rating\n",
    "        \n",
    "    -Toei animation studio is produce more anime then any other anime studio"
   ]
  },
  {
   "cell_type": "code",
   "execution_count": null,
   "id": "d0f22519",
   "metadata": {},
   "outputs": [],
   "source": []
  }
 ],
 "metadata": {
  "kernelspec": {
   "display_name": "Python 3 (ipykernel)",
   "language": "python",
   "name": "python3"
  },
  "language_info": {
   "codemirror_mode": {
    "name": "ipython",
    "version": 3
   },
   "file_extension": ".py",
   "mimetype": "text/x-python",
   "name": "python",
   "nbconvert_exporter": "python",
   "pygments_lexer": "ipython3",
   "version": "3.11.5"
  }
 },
 "nbformat": 4,
 "nbformat_minor": 5
}
